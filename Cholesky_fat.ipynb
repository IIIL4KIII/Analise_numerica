{
 "cells": [
  {
   "cell_type": "markdown",
   "metadata": {},
   "source": [
    "# Fatoração de Cholesky\n",
    "\n",
    "Dado $A\\in\\mathbb{R}^{n}$, onde $A = A^T$ definida positiva (isto é, dado $x \\in\\mathbb{R}^n $ então $x^T A x > 0$), então existe $G\\in\\mathbb{R}^{n\\times n}$, triangular inferior, com diagonal positiva tal que $A=G\\cdot G^T$. "
   ]
  },
  {
   "cell_type": "code",
   "execution_count": null,
   "metadata": {},
   "outputs": [],
   "source": [
    "import math\n",
    "\n",
    "def chol_fat(A):\n",
    "    n = len(A)\n",
    "    G = [[0.0 for _ in range(n)] for _ in range(n)]\n",
    "    \n",
    "    for i in range(n):\n",
    "        for j in range(i): \n",
    "            G[i][j] = (A[i][j] - sum(G[i][k] * G[j][k] for k in range(j))) / G[j][j]\n",
    "\n",
    "        G[i][i] = math.sqrt(A[i][i] - sum(G[i][k] ** 2 for k in range(i)))\n",
    "    \n",
    "    return G\n"
   ]
  },
  {
   "cell_type": "code",
   "execution_count": 56,
   "metadata": {},
   "outputs": [],
   "source": [
    "def printM(A, name):\n",
    "    print(f'A matriz {name} possui a seguinte fatoração de Cholesky')\n",
    "    for i in A:\n",
    "        print(i)\n",
    "    print(\" \")"
   ]
  },
  {
   "cell_type": "code",
   "execution_count": 57,
   "metadata": {},
   "outputs": [
    {
     "name": "stdout",
     "output_type": "stream",
     "text": [
      "A matriz A_1 possui a seguinte fatoração de Cholesky\n",
      "[1.0, 0.0, 0.0]\n",
      "[-2.0, 2.0, 0.0]\n",
      "[1.0, 2.0, 3.0]\n",
      " \n"
     ]
    }
   ],
   "source": [
    "A_1 = [\n",
    "    [1, -2, 1],\n",
    "    [-2, 8, 2],\n",
    "    [1, 2, 14]\n",
    "]\n",
    "\n",
    "G_1 = chol_fat(A_1)\n",
    "printM(G_1, \"A_1\")"
   ]
  },
  {
   "cell_type": "code",
   "execution_count": 58,
   "metadata": {},
   "outputs": [
    {
     "name": "stdout",
     "output_type": "stream",
     "text": [
      "A matriz A_2 possui a seguinte fatoração de Cholesky\n",
      "[1.0, 0.0, 0.0]\n",
      "[2.0, 2.0, 0.0]\n",
      "[3.0, 3.0, 3.0]\n",
      " \n",
      "A matriz A_3 possui a seguinte fatoração de Cholesky\n",
      "[2.0, 0.0, 0.0]\n",
      "[3.0, 1.0, 0.0]\n",
      "[1.0, 0.0, 2.0]\n",
      " \n"
     ]
    }
   ],
   "source": [
    "A_2 = [\n",
    "    [1, 2, 3],\n",
    "    [2, 8, 12],\n",
    "    [3, 12, 27]\n",
    "]\n",
    "\n",
    "A_3 = [\n",
    "    [4, 6, 2],\n",
    "    [6, 10, 3],\n",
    "    [2, 3, 5]\n",
    "]\n",
    "\n",
    "G_2 = chol_fat(A_2)\n",
    "printM(G_2, \"A_2\")\n",
    "G_3 = chol_fat(A_3)\n",
    "printM(G_3, \"A_3\")"
   ]
  },
  {
   "cell_type": "code",
   "execution_count": null,
   "metadata": {},
   "outputs": [],
   "source": []
  }
 ],
 "metadata": {
  "kernelspec": {
   "display_name": "Python 3",
   "language": "python",
   "name": "python3"
  },
  "language_info": {
   "codemirror_mode": {
    "name": "ipython",
    "version": 3
   },
   "file_extension": ".py",
   "mimetype": "text/x-python",
   "name": "python",
   "nbconvert_exporter": "python",
   "pygments_lexer": "ipython3",
   "version": "3.13.2"
  }
 },
 "nbformat": 4,
 "nbformat_minor": 2
}
