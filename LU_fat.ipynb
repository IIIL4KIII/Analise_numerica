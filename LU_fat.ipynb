{
 "cells": [
  {
   "cell_type": "markdown",
   "metadata": {},
   "source": [
    "# Fatoração LU\n",
    "\n",
    "A fatoração LU (ou decomposição LU) é um método da álgebra linear utilizado para resolver sistemas de equações lineares, calcular determinantes e encontrar inversas de matrizes. Ela decompõe uma matriz quadrada $A\\in\\mathbb{R}^{n\\times n}$ no produto de duas matrizes triangulares:\n",
    "$$ A = LU $$\n",
    "\n",
    "\n",
    "1. Aplicar a eliminação de Gauss para transformar a matriz $A$ em uma matriz triangular superior $U$, registrando as operações na matriz $L$.\n",
    "2. Resolver o sistema linear $Ax=b$ de forma eficiente usando a decomposição:\n",
    "    - Primeiro, resolver $Ly=b$ (substituição direta).\n",
    "    - Depois, resolver $Ux = y$ (substituição retroativa).\n",
    "\n",
    "## Tipos de fatoração LU\n",
    "\n",
    "- Fatoração LU sem pivoteamento: Funciona apenas se a matriz for não singular e não exigir troca de linhas.\n",
    "- Fatoração LU com pivoteamento parcial: Usa uma matriz de permutação $P$ para reordenar linhas e evitar divisões por zero, resultando em $PA=LU$.\n",
    "- Fatoração LDU: Forma especial onde $L$ e $U$ têm 1s na diagonal e $D$ é uma matriz diagonal.\n",
    "\n"
   ]
  },
  {
   "cell_type": "code",
   "execution_count": 41,
   "metadata": {},
   "outputs": [],
   "source": [
    "def matrix_prod(A, B):\n",
    "    t_B = list(zip(*B)) \n",
    "    return [[sum(el_m * el_n for el_m, el_n in zip(row_m, col_n)) for col_n in t_B] for row_m in A]\n",
    "\n",
    "def piv_matrix(A):\n",
    "    n = len(A)\n",
    "    id_m = [[float(i == j) for i in range(n)] for j in range(n)]\n",
    "    \n",
    "    for j in range(n):\n",
    "        row = max(range(j, n), key=lambda i: abs(A[i][j]))\n",
    "        if j != row:\n",
    "            id_m[j], id_m[row] = id_m[row], id_m[j]\n",
    "            \n",
    "    return id_m\n",
    "\n",
    "def lu_fat(A):\n",
    "    n = len(A)\n",
    "    P = piv_matrix(A)\n",
    "    PA = matrix_prod(P, A)\n",
    "    \n",
    "    L = [[0.0 for _ in range(n)] for _ in range(n)]\n",
    "    U = [[0.0 for _ in range(n)] for _ in range(n)]\n",
    "    \n",
    "    for j in range(n):\n",
    "        L[j][j] = 1.0 \n",
    "        \n",
    "        for i in range(j + 1):\n",
    "            s = sum(U[k][j] * L[i][k] for k in range(i))\n",
    "            U[i][j] = round(PA[i][j] - s, 2) \n",
    "        \n",
    "        for i in range(j + 1, n):\n",
    "            s = sum(U[k][j] * L[i][k] for k in range(j))\n",
    "            L[i][j] = round((PA[i][j] - s) / U[j][j], 2) \n",
    "    \n",
    "    return P, L, U"
   ]
  },
  {
   "cell_type": "code",
   "execution_count": 46,
   "metadata": {},
   "outputs": [
    {
     "data": {
      "text/plain": [
       "[[1.0, 0.0, 0.0, 0.0],\n",
       " [0.43, 1.0, 0.0, 0.0],\n",
       " [-0.14, 0.21, 1.0, 0.0],\n",
       " [0.29, -0.73, 0.09, 1.0]]"
      ]
     },
     "execution_count": 46,
     "metadata": {},
     "output_type": "execute_result"
    }
   ],
   "source": [
    "A = [[7, 3, -1, 2], [3, 8, 1, -4], [-1, 1, 4, -1], [2, -4, -1, 6]]\n",
    "P, L, U = lu_fat(A)\n",
    "L\n"
   ]
  },
  {
   "cell_type": "code",
   "execution_count": null,
   "metadata": {},
   "outputs": [],
   "source": []
  }
 ],
 "metadata": {
  "kernelspec": {
   "display_name": "Python 3",
   "language": "python",
   "name": "python3"
  },
  "language_info": {
   "codemirror_mode": {
    "name": "ipython",
    "version": 3
   },
   "file_extension": ".py",
   "mimetype": "text/x-python",
   "name": "python",
   "nbconvert_exporter": "python",
   "pygments_lexer": "ipython3",
   "version": "3.13.2"
  }
 },
 "nbformat": 4,
 "nbformat_minor": 2
}
